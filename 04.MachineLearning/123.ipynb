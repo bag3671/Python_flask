{
 "metadata": {
  "language_info": {
   "codemirror_mode": {
    "name": "ipython",
    "version": 3
   },
   "file_extension": ".py",
   "mimetype": "text/x-python",
   "name": "python",
   "nbconvert_exporter": "python",
   "pygments_lexer": "ipython3",
   "version": "3.8.3-final"
  },
  "orig_nbformat": 2,
  "kernelspec": {
   "name": "python3",
   "display_name": "Python 3",
   "language": "python"
  }
 },
 "nbformat": 4,
 "nbformat_minor": 2,
 "cells": [
  {
   "cell_type": "code",
   "execution_count": 39,
   "metadata": {},
   "outputs": [],
   "source": [
    "from glob import glob\n",
    "from tensorflow.keras.applications.resnet50 import ResNet50, decode_predictions\n",
    "from tensorflow.keras.applications.resnet import ResNet101, decode_predictions\n",
    "from tensorflow.keras.applications.inception_v3 import InceptionV3, decode_predictions\n",
    "from tensorflow.keras.applications.vgg16 import VGG16, decode_predictions\n",
    "from tensorflow.keras.applications.vgg19 import VGG19, decode_predictions\n",
    "import pandas as pd\n",
    "import cv2\n",
    "from glob import glob\n",
    "from skimage import io"
   ]
  },
  {
   "cell_type": "code",
   "execution_count": 4,
   "metadata": {},
   "outputs": [
    {
     "output_type": "stream",
     "name": "stdout",
     "text": [
      "uncompress success\n"
     ]
    }
   ],
   "source": [
    "# 압축파일 압축해제\n",
    "import zipfile\n",
    " \n",
    "try:\n",
    "    with zipfile.ZipFile(\"C:/Users/shoseo/Desktop/animals.zip\") as zf:\n",
    "        zf.extractall('./static/data_01/')\n",
    "        print(\"uncompress success\")\n",
    " \n",
    "except:\n",
    "    print(\"uncompress fail\")"
   ]
  },
  {
   "cell_type": "code",
   "execution_count": 5,
   "metadata": {},
   "outputs": [],
   "source": [
    "vgg16 = VGG16()\n",
    "vgg19 = VGG19()\n",
    "resnet50 = ResNet50()\n",
    "resnet101 = ResNet101()\n",
    "inceptionv3 = InceptionV3(input_shape=(299,299,3))"
   ]
  },
  {
   "cell_type": "code",
   "execution_count": 22,
   "metadata": {},
   "outputs": [],
   "source": [
    "names = []\n",
    "for file in glob('./static/data_01/*'):\n",
    "    name = file.split('.')[1]\n",
    "    name = name.split('\\\\')[1]\n",
    "    names.append(name)"
   ]
  },
  {
   "cell_type": "code",
   "execution_count": 23,
   "metadata": {},
   "outputs": [
    {
     "output_type": "stream",
     "name": "stdout",
     "text": [
      "['개', '고라니', '고래상어', '고양이', '기린', '까치', '다람쥐', '도마뱀', '돼지', '듀공', '랫서팬더', '말', '맥', '뱀', '붉은여우', '수달', '숫사자', '알파카', '판다', '펭귄', '하이에나', '흰머리독수리']\n"
     ]
    }
   ],
   "source": [
    "print(names)"
   ]
  },
  {
   "cell_type": "code",
   "execution_count": 34,
   "metadata": {},
   "outputs": [
    {
     "output_type": "stream",
     "name": "stdout",
     "text": [
      "static/data_01\\개.jpg\nstatic/data_01\\고라니.jpg\nstatic/data_01\\고래상어.jpg\nstatic/data_01\\고양이.jpg\nstatic/data_01\\기린.jpg\nstatic/data_01\\까치.jpg\nstatic/data_01\\다람쥐.jpg\nstatic/data_01\\도마뱀.jpg\nstatic/data_01\\돼지.jpg\nstatic/data_01\\듀공.jpg\nstatic/data_01\\랫서팬더.jpg\nstatic/data_01\\말.jpg\nstatic/data_01\\맥.jpg\nstatic/data_01\\뱀.jpg\nstatic/data_01\\붉은여우.jpg\nstatic/data_01\\수달.jpg\nstatic/data_01\\숫사자.jpg\nstatic/data_01\\알파카.jpg\nstatic/data_01\\판다.jpg\nstatic/data_01\\펭귄.jpg\nstatic/data_01\\하이에나.jpg\nstatic/data_01\\흰머리독수리.jpg\n"
     ]
    }
   ],
   "source": [
    "for file in glob('static/data_01/*'):\n",
    "    print(file)"
   ]
  },
  {
   "source": [
    "resnet50"
   ],
   "cell_type": "markdown",
   "metadata": {}
  },
  {
   "cell_type": "code",
   "execution_count": 41,
   "metadata": {},
   "outputs": [
    {
     "output_type": "stream",
     "name": "stdout",
     "text": [
      "Downloading data from https://storage.googleapis.com/download.tensorflow.org/data/imagenet_class_index.json\n",
      "40960/35363 [==================================] - 0s 0us/step\n"
     ]
    }
   ],
   "source": [
    "resnet50_list = []\n",
    "for file in glob('./static/data_01/*'):\n",
    "    img = io.imread(file)\n",
    "    # 불안정함\n",
    "    # img = cv2.imread(file, -1)\n",
    "    img = cv2.cvtColor(img, cv2.COLOR_BGR2RGB)\n",
    "    img = cv2.resize(img, (224, 224))\n",
    "\n",
    "    yhat = resnet50.predict(img.reshape(-1, 224, 224, 3))\n",
    "    label = decode_predictions(yhat)\n",
    "    label = label[0][0]\n",
    "    label_per = f'{label[1]}({round(label[2]*100, 1)}%)'\n",
    "    resnet50_list.append(label_per)"
   ]
  },
  {
   "cell_type": "code",
   "execution_count": 42,
   "metadata": {},
   "outputs": [
    {
     "output_type": "stream",
     "name": "stdout",
     "text": [
      "['golden_retriever(68.6%)', 'wallaby(85.3%)', 'electric_ray(46.1%)', 'Egyptian_cat(35.1%)', 'cheetah(90.5%)', 'magpie(93.2%)', 'wood_rabbit(43.3%)', 'boa_constrictor(26.9%)', 'ram(37.1%)', 'ice_bear(44.1%)', 'lesser_panda(100.0%)', 'Arabian_camel(63.6%)', 'hog(55.4%)', 'green_snake(46.5%)', 'red_fox(83.9%)', 'otter(95.8%)', 'lion(96.7%)', 'llama(61.4%)', 'giant_panda(95.3%)', 'wallaby(16.5%)', 'hyena(99.8%)', 'kite(99.3%)']\n"
     ]
    }
   ],
   "source": [
    "print(resnet50_list)"
   ]
  },
  {
   "source": [
    "resnet101"
   ],
   "cell_type": "markdown",
   "metadata": {}
  },
  {
   "cell_type": "code",
   "execution_count": 49,
   "metadata": {},
   "outputs": [],
   "source": [
    "resnet101_list = []\n",
    "for file in glob('./static/data_01/*'):\n",
    "    img = io.imread(file)\n",
    "    # img = cv2.imread(file, -1)\n",
    "    img = cv2.cvtColor(img, cv2.COLOR_BGR2RGB)\n",
    "    img = cv2.resize(img, (224, 224))\n",
    "\n",
    "    yhat = resnet101.predict(img.reshape(-1, 224, 224, 3))\n",
    "    label = decode_predictions(yhat)\n",
    "    label = label[0][0]\n",
    "    label_per = f'{label[1]}({round(label[2]*100, 1)}%)'\n",
    "    resnet101_list.append(label_per)"
   ]
  },
  {
   "cell_type": "code",
   "execution_count": 50,
   "metadata": {},
   "outputs": [
    {
     "output_type": "stream",
     "name": "stdout",
     "text": [
      "['kuvasz(56.0%)', 'wallaby(86.2%)', 'electric_ray(50.2%)', 'Egyptian_cat(68.7%)', 'impala(53.8%)', 'magpie(98.8%)', 'brambling(55.7%)', 'rock_python(49.7%)', 'hog(54.0%)', 'dugong(89.5%)', 'lesser_panda(99.6%)', 'hartebeest(50.5%)', 'hog(53.0%)', 'green_snake(48.2%)', 'red_fox(98.4%)', 'otter(95.0%)', 'lion(75.4%)', 'llama(75.2%)', 'giant_panda(94.8%)', 'wallaby(24.0%)', 'hyena(99.5%)', 'kite(98.8%)']\n"
     ]
    }
   ],
   "source": [
    "print(resnet101_list)"
   ]
  },
  {
   "source": [
    "vgg16"
   ],
   "cell_type": "markdown",
   "metadata": {}
  },
  {
   "cell_type": "code",
   "execution_count": 47,
   "metadata": {},
   "outputs": [],
   "source": [
    "vgg16_list = []\n",
    "for file in glob('./static/data_01/*'):\n",
    "    # img = cv2.imread(file, -1)\n",
    "    img = io.imread(file)\n",
    "    img = cv2.cvtColor(img, cv2.COLOR_BGR2RGB)\n",
    "    img = cv2.resize(img, (224, 224))\n",
    "\n",
    "    yhat = vgg16.predict(img.reshape(-1, 224, 224, 3))\n",
    "    label = decode_predictions(yhat)\n",
    "    label = label[0][0]\n",
    "    label_per = f'{label[1]}({round(label[2]*100, 1)}%)'\n",
    "    vgg16_list.append(label_per)"
   ]
  },
  {
   "cell_type": "code",
   "execution_count": 48,
   "metadata": {},
   "outputs": [
    {
     "output_type": "execute_result",
     "data": {
      "text/plain": [
       "['kuvasz(60.1%)',\n",
       " 'wallaby(74.5%)',\n",
       " 'electric_ray(34.2%)',\n",
       " 'Egyptian_cat(37.6%)',\n",
       " 'cheetah(57.2%)',\n",
       " 'magpie(99.6%)',\n",
       " 'ruffed_grouse(12.7%)',\n",
       " 'rock_python(35.7%)',\n",
       " 'hog(40.1%)',\n",
       " 'dugong(98.2%)',\n",
       " 'lesser_panda(99.9%)',\n",
       " 'sorrel(99.1%)',\n",
       " 'Staffordshire_bullterrier(12.2%)',\n",
       " 'green_snake(20.8%)',\n",
       " 'red_fox(86.4%)',\n",
       " 'otter(96.9%)',\n",
       " 'lion(100.0%)',\n",
       " 'llama(99.0%)',\n",
       " 'giant_panda(69.6%)',\n",
       " 'king_penguin(99.0%)',\n",
       " 'hyena(95.3%)',\n",
       " 'kite(98.7%)']"
      ]
     },
     "metadata": {},
     "execution_count": 48
    }
   ],
   "source": [
    "vgg16_list"
   ]
  },
  {
   "source": [
    "vgg19"
   ],
   "cell_type": "markdown",
   "metadata": {}
  },
  {
   "cell_type": "code",
   "execution_count": 51,
   "metadata": {},
   "outputs": [],
   "source": [
    "vgg19_list = []\n",
    "for file in glob('./static/data_01/*'):\n",
    "    # img = cv2.imread(file, -1)\n",
    "    img = io.imread(file)\n",
    "    img = cv2.cvtColor(img, cv2.COLOR_BGR2RGB)\n",
    "    img = cv2.resize(img, (224, 224))\n",
    "\n",
    "    yhat = vgg19.predict(img.reshape(-1, 224, 224, 3))\n",
    "    label = decode_predictions(yhat)\n",
    "    label = label[0][0]\n",
    "    label_per = f'{label[1]}({round(label[2]*100, 1)}%)'\n",
    "    vgg19_list.append(label_per)"
   ]
  },
  {
   "cell_type": "code",
   "execution_count": 52,
   "metadata": {},
   "outputs": [
    {
     "output_type": "stream",
     "name": "stdout",
     "text": [
      "['kuvasz(72.1%)', 'ibex(42.7%)', 'electric_ray(36.0%)', 'Egyptian_cat(34.7%)', 'gazelle(28.2%)', 'magpie(99.2%)', 'partridge(18.1%)', 'rock_python(25.4%)', 'hog(54.1%)', 'dugong(89.8%)', 'lesser_panda(100.0%)', 'sorrel(86.4%)', 'ram(62.1%)', 'green_snake(32.1%)', 'red_fox(92.2%)', 'otter(40.2%)', 'lion(100.0%)', 'llama(96.2%)', 'giant_panda(80.8%)', 'king_penguin(99.5%)', 'hyena(99.9%)', 'kite(99.7%)']\n"
     ]
    }
   ],
   "source": [
    "print(vgg19_list)"
   ]
  },
  {
   "source": [
    "inceptionv3"
   ],
   "cell_type": "markdown",
   "metadata": {}
  },
  {
   "cell_type": "code",
   "execution_count": 53,
   "metadata": {},
   "outputs": [],
   "source": [
    "inceptionv3_list = []\n",
    "for file in glob('./static/data_01/*'):\n",
    "    # img = cv2.imread(file, -1)\n",
    "    img = io.imread(file)\n",
    "    img = cv2.cvtColor(img, cv2.COLOR_BGR2RGB)\n",
    "    img = cv2.resize(img, (299, 299))\n",
    "\n",
    "    yhat = inceptionv3.predict(img.reshape(-1, 299, 299, 3))\n",
    "    label = decode_predictions(yhat)\n",
    "    label = label[0][0]\n",
    "    label_per = f'{label[1]}({round(label[2]*100, 1)}%)'\n",
    "    inceptionv3_list.append(label_per)"
   ]
  },
  {
   "cell_type": "code",
   "execution_count": 54,
   "metadata": {},
   "outputs": [
    {
     "output_type": "stream",
     "name": "stdout",
     "text": [
      "['pitcher(100.0%)', 'pitcher(100.0%)', 'clog(100.0%)', 'clog(99.9%)', 'flatworm(100.0%)', 'flatworm(100.0%)', 'pitcher(100.0%)', 'web_site(100.0%)', 'pitcher(100.0%)', 'clog(100.0%)', 'pitcher(98.1%)', 'pitcher(100.0%)', 'pitcher(100.0%)', 'web_site(99.9%)', 'flatworm(100.0%)', 'pitcher(100.0%)', 'flatworm(100.0%)', 'pitcher(100.0%)', 'pitcher(61.0%)', 'pitcher(100.0%)', 'pitcher(100.0%)', 'pitcher(99.7%)']\n"
     ]
    }
   ],
   "source": [
    "print(inceptionv3_list)"
   ]
  },
  {
   "source": [
    "결과"
   ],
   "cell_type": "markdown",
   "metadata": {}
  },
  {
   "cell_type": "code",
   "execution_count": 55,
   "metadata": {},
   "outputs": [],
   "source": [
    "df = pd.DataFrame({\n",
    "    '원본' : names,\n",
    "    'Resnet50' : resnet50_list,\n",
    "    'Resnet101' : resnet101_list,\n",
    "    'VGG16' : vgg16_list,\n",
    "    'VGG19' : vgg19_list,\n",
    "    'Inceptionv3' : inceptionv3_list\n",
    "})"
   ]
  },
  {
   "cell_type": "code",
   "execution_count": 56,
   "metadata": {},
   "outputs": [
    {
     "output_type": "execute_result",
     "data": {
      "text/plain": [
       "        원본                 Resnet50            Resnet101  \\\n",
       "0        개  golden_retriever(68.6%)        kuvasz(56.0%)   \n",
       "1      고라니           wallaby(85.3%)       wallaby(86.2%)   \n",
       "2     고래상어      electric_ray(46.1%)  electric_ray(50.2%)   \n",
       "3      고양이      Egyptian_cat(35.1%)  Egyptian_cat(68.7%)   \n",
       "4       기린           cheetah(90.5%)        impala(53.8%)   \n",
       "5       까치            magpie(93.2%)        magpie(98.8%)   \n",
       "6      다람쥐       wood_rabbit(43.3%)     brambling(55.7%)   \n",
       "7      도마뱀   boa_constrictor(26.9%)   rock_python(49.7%)   \n",
       "8       돼지               ram(37.1%)           hog(54.0%)   \n",
       "9       듀공          ice_bear(44.1%)        dugong(89.5%)   \n",
       "10    랫서팬더     lesser_panda(100.0%)  lesser_panda(99.6%)   \n",
       "11       말     Arabian_camel(63.6%)    hartebeest(50.5%)   \n",
       "12       맥               hog(55.4%)           hog(53.0%)   \n",
       "13       뱀       green_snake(46.5%)   green_snake(48.2%)   \n",
       "14    붉은여우           red_fox(83.9%)       red_fox(98.4%)   \n",
       "15      수달             otter(95.8%)         otter(95.0%)   \n",
       "16     숫사자              lion(96.7%)          lion(75.4%)   \n",
       "17     알파카             llama(61.4%)         llama(75.2%)   \n",
       "18      판다       giant_panda(95.3%)   giant_panda(94.8%)   \n",
       "19      펭귄           wallaby(16.5%)       wallaby(24.0%)   \n",
       "20    하이에나             hyena(99.8%)         hyena(99.5%)   \n",
       "21  흰머리독수리              kite(99.3%)          kite(98.8%)   \n",
       "\n",
       "                               VGG16                 VGG19       Inceptionv3  \n",
       "0                      kuvasz(60.1%)         kuvasz(72.1%)   pitcher(100.0%)  \n",
       "1                     wallaby(74.5%)           ibex(42.7%)   pitcher(100.0%)  \n",
       "2                electric_ray(34.2%)   electric_ray(36.0%)      clog(100.0%)  \n",
       "3                Egyptian_cat(37.6%)   Egyptian_cat(34.7%)       clog(99.9%)  \n",
       "4                     cheetah(57.2%)        gazelle(28.2%)  flatworm(100.0%)  \n",
       "5                      magpie(99.6%)         magpie(99.2%)  flatworm(100.0%)  \n",
       "6               ruffed_grouse(12.7%)      partridge(18.1%)   pitcher(100.0%)  \n",
       "7                 rock_python(35.7%)    rock_python(25.4%)  web_site(100.0%)  \n",
       "8                         hog(40.1%)            hog(54.1%)   pitcher(100.0%)  \n",
       "9                      dugong(98.2%)         dugong(89.8%)      clog(100.0%)  \n",
       "10               lesser_panda(99.9%)  lesser_panda(100.0%)    pitcher(98.1%)  \n",
       "11                     sorrel(99.1%)         sorrel(86.4%)   pitcher(100.0%)  \n",
       "12  Staffordshire_bullterrier(12.2%)            ram(62.1%)   pitcher(100.0%)  \n",
       "13                green_snake(20.8%)    green_snake(32.1%)   web_site(99.9%)  \n",
       "14                    red_fox(86.4%)        red_fox(92.2%)  flatworm(100.0%)  \n",
       "15                      otter(96.9%)          otter(40.2%)   pitcher(100.0%)  \n",
       "16                      lion(100.0%)          lion(100.0%)  flatworm(100.0%)  \n",
       "17                      llama(99.0%)          llama(96.2%)   pitcher(100.0%)  \n",
       "18                giant_panda(69.6%)    giant_panda(80.8%)    pitcher(61.0%)  \n",
       "19               king_penguin(99.0%)   king_penguin(99.5%)   pitcher(100.0%)  \n",
       "20                      hyena(95.3%)          hyena(99.9%)   pitcher(100.0%)  \n",
       "21                       kite(98.7%)           kite(99.7%)    pitcher(99.7%)  "
      ],
      "text/html": "<div>\n<style scoped>\n    .dataframe tbody tr th:only-of-type {\n        vertical-align: middle;\n    }\n\n    .dataframe tbody tr th {\n        vertical-align: top;\n    }\n\n    .dataframe thead th {\n        text-align: right;\n    }\n</style>\n<table border=\"1\" class=\"dataframe\">\n  <thead>\n    <tr style=\"text-align: right;\">\n      <th></th>\n      <th>원본</th>\n      <th>Resnet50</th>\n      <th>Resnet101</th>\n      <th>VGG16</th>\n      <th>VGG19</th>\n      <th>Inceptionv3</th>\n    </tr>\n  </thead>\n  <tbody>\n    <tr>\n      <th>0</th>\n      <td>개</td>\n      <td>golden_retriever(68.6%)</td>\n      <td>kuvasz(56.0%)</td>\n      <td>kuvasz(60.1%)</td>\n      <td>kuvasz(72.1%)</td>\n      <td>pitcher(100.0%)</td>\n    </tr>\n    <tr>\n      <th>1</th>\n      <td>고라니</td>\n      <td>wallaby(85.3%)</td>\n      <td>wallaby(86.2%)</td>\n      <td>wallaby(74.5%)</td>\n      <td>ibex(42.7%)</td>\n      <td>pitcher(100.0%)</td>\n    </tr>\n    <tr>\n      <th>2</th>\n      <td>고래상어</td>\n      <td>electric_ray(46.1%)</td>\n      <td>electric_ray(50.2%)</td>\n      <td>electric_ray(34.2%)</td>\n      <td>electric_ray(36.0%)</td>\n      <td>clog(100.0%)</td>\n    </tr>\n    <tr>\n      <th>3</th>\n      <td>고양이</td>\n      <td>Egyptian_cat(35.1%)</td>\n      <td>Egyptian_cat(68.7%)</td>\n      <td>Egyptian_cat(37.6%)</td>\n      <td>Egyptian_cat(34.7%)</td>\n      <td>clog(99.9%)</td>\n    </tr>\n    <tr>\n      <th>4</th>\n      <td>기린</td>\n      <td>cheetah(90.5%)</td>\n      <td>impala(53.8%)</td>\n      <td>cheetah(57.2%)</td>\n      <td>gazelle(28.2%)</td>\n      <td>flatworm(100.0%)</td>\n    </tr>\n    <tr>\n      <th>5</th>\n      <td>까치</td>\n      <td>magpie(93.2%)</td>\n      <td>magpie(98.8%)</td>\n      <td>magpie(99.6%)</td>\n      <td>magpie(99.2%)</td>\n      <td>flatworm(100.0%)</td>\n    </tr>\n    <tr>\n      <th>6</th>\n      <td>다람쥐</td>\n      <td>wood_rabbit(43.3%)</td>\n      <td>brambling(55.7%)</td>\n      <td>ruffed_grouse(12.7%)</td>\n      <td>partridge(18.1%)</td>\n      <td>pitcher(100.0%)</td>\n    </tr>\n    <tr>\n      <th>7</th>\n      <td>도마뱀</td>\n      <td>boa_constrictor(26.9%)</td>\n      <td>rock_python(49.7%)</td>\n      <td>rock_python(35.7%)</td>\n      <td>rock_python(25.4%)</td>\n      <td>web_site(100.0%)</td>\n    </tr>\n    <tr>\n      <th>8</th>\n      <td>돼지</td>\n      <td>ram(37.1%)</td>\n      <td>hog(54.0%)</td>\n      <td>hog(40.1%)</td>\n      <td>hog(54.1%)</td>\n      <td>pitcher(100.0%)</td>\n    </tr>\n    <tr>\n      <th>9</th>\n      <td>듀공</td>\n      <td>ice_bear(44.1%)</td>\n      <td>dugong(89.5%)</td>\n      <td>dugong(98.2%)</td>\n      <td>dugong(89.8%)</td>\n      <td>clog(100.0%)</td>\n    </tr>\n    <tr>\n      <th>10</th>\n      <td>랫서팬더</td>\n      <td>lesser_panda(100.0%)</td>\n      <td>lesser_panda(99.6%)</td>\n      <td>lesser_panda(99.9%)</td>\n      <td>lesser_panda(100.0%)</td>\n      <td>pitcher(98.1%)</td>\n    </tr>\n    <tr>\n      <th>11</th>\n      <td>말</td>\n      <td>Arabian_camel(63.6%)</td>\n      <td>hartebeest(50.5%)</td>\n      <td>sorrel(99.1%)</td>\n      <td>sorrel(86.4%)</td>\n      <td>pitcher(100.0%)</td>\n    </tr>\n    <tr>\n      <th>12</th>\n      <td>맥</td>\n      <td>hog(55.4%)</td>\n      <td>hog(53.0%)</td>\n      <td>Staffordshire_bullterrier(12.2%)</td>\n      <td>ram(62.1%)</td>\n      <td>pitcher(100.0%)</td>\n    </tr>\n    <tr>\n      <th>13</th>\n      <td>뱀</td>\n      <td>green_snake(46.5%)</td>\n      <td>green_snake(48.2%)</td>\n      <td>green_snake(20.8%)</td>\n      <td>green_snake(32.1%)</td>\n      <td>web_site(99.9%)</td>\n    </tr>\n    <tr>\n      <th>14</th>\n      <td>붉은여우</td>\n      <td>red_fox(83.9%)</td>\n      <td>red_fox(98.4%)</td>\n      <td>red_fox(86.4%)</td>\n      <td>red_fox(92.2%)</td>\n      <td>flatworm(100.0%)</td>\n    </tr>\n    <tr>\n      <th>15</th>\n      <td>수달</td>\n      <td>otter(95.8%)</td>\n      <td>otter(95.0%)</td>\n      <td>otter(96.9%)</td>\n      <td>otter(40.2%)</td>\n      <td>pitcher(100.0%)</td>\n    </tr>\n    <tr>\n      <th>16</th>\n      <td>숫사자</td>\n      <td>lion(96.7%)</td>\n      <td>lion(75.4%)</td>\n      <td>lion(100.0%)</td>\n      <td>lion(100.0%)</td>\n      <td>flatworm(100.0%)</td>\n    </tr>\n    <tr>\n      <th>17</th>\n      <td>알파카</td>\n      <td>llama(61.4%)</td>\n      <td>llama(75.2%)</td>\n      <td>llama(99.0%)</td>\n      <td>llama(96.2%)</td>\n      <td>pitcher(100.0%)</td>\n    </tr>\n    <tr>\n      <th>18</th>\n      <td>판다</td>\n      <td>giant_panda(95.3%)</td>\n      <td>giant_panda(94.8%)</td>\n      <td>giant_panda(69.6%)</td>\n      <td>giant_panda(80.8%)</td>\n      <td>pitcher(61.0%)</td>\n    </tr>\n    <tr>\n      <th>19</th>\n      <td>펭귄</td>\n      <td>wallaby(16.5%)</td>\n      <td>wallaby(24.0%)</td>\n      <td>king_penguin(99.0%)</td>\n      <td>king_penguin(99.5%)</td>\n      <td>pitcher(100.0%)</td>\n    </tr>\n    <tr>\n      <th>20</th>\n      <td>하이에나</td>\n      <td>hyena(99.8%)</td>\n      <td>hyena(99.5%)</td>\n      <td>hyena(95.3%)</td>\n      <td>hyena(99.9%)</td>\n      <td>pitcher(100.0%)</td>\n    </tr>\n    <tr>\n      <th>21</th>\n      <td>흰머리독수리</td>\n      <td>kite(99.3%)</td>\n      <td>kite(98.8%)</td>\n      <td>kite(98.7%)</td>\n      <td>kite(99.7%)</td>\n      <td>pitcher(99.7%)</td>\n    </tr>\n  </tbody>\n</table>\n</div>"
     },
     "metadata": {},
     "execution_count": 56
    }
   ],
   "source": [
    "df"
   ]
  },
  {
   "cell_type": "code",
   "execution_count": null,
   "metadata": {},
   "outputs": [],
   "source": []
  }
 ]
}