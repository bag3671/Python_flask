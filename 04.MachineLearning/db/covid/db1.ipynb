{
 "metadata": {
  "language_info": {
   "codemirror_mode": {
    "name": "ipython",
    "version": 3
   },
   "file_extension": ".py",
   "mimetype": "text/x-python",
   "name": "python",
   "nbconvert_exporter": "python",
   "pygments_lexer": "ipython3",
   "version": "3.8.5-final"
  },
  "orig_nbformat": 2,
  "kernelspec": {
   "name": "python3",
   "display_name": "Python 3",
   "language": "python"
  }
 },
 "nbformat": 4,
 "nbformat_minor": 2,
 "cells": [
  {
   "cell_type": "code",
   "execution_count": 5,
   "metadata": {},
   "outputs": [],
   "source": [
    "import sqlite3\n",
    "import pandas as pd\n",
    "from datetime import datetime"
   ]
  },
  {
   "cell_type": "code",
   "execution_count": 25,
   "metadata": {},
   "outputs": [],
   "source": [
    "conn = sqlite3.connect('./test.db')\n",
    "cur = conn.cursor()\n",
    "\n",
    "sql = 'select * from test where 기준시간 = \"2020년 12월 22일 00시\"'\n",
    "cur.execute(sql)\n",
    "rows = cur.fetchall()\n",
    "\n",
    "cur.close()\n",
    "conn.close()"
   ]
  },
  {
   "cell_type": "code",
   "execution_count": 26,
   "metadata": {},
   "outputs": [
    {
     "output_type": "execute_result",
     "data": {
      "text/plain": [
       "[(0,\n",
       "  '2020년 12월 22일 00시',\n",
       "  1,\n",
       "  2361,\n",
       "  '검역',\n",
       "  1658,\n",
       "  702,\n",
       "  0,\n",
       "  18,\n",
       "  '-',\n",
       "  '2020-12-22 14:41:34.444'),\n",
       " (1,\n",
       "  '2020년 12월 22일 00시',\n",
       "  0,\n",
       "  271,\n",
       "  '제주',\n",
       "  103,\n",
       "  168,\n",
       "  19,\n",
       "  0,\n",
       "  '40.40',\n",
       "  '2020-12-22 14:41:34.444'),\n",
       " (2,\n",
       "  '2020년 12월 22일 00시',\n",
       "  3,\n",
       "  1095,\n",
       "  '경남',\n",
       "  768,\n",
       "  324,\n",
       "  18,\n",
       "  0,\n",
       "  '32.58',\n",
       "  '2020-12-22 14:41:34.443'),\n",
       " (3,\n",
       "  '2020년 12월 22일 00시',\n",
       "  61,\n",
       "  2094,\n",
       "  '경북',\n",
       "  1721,\n",
       "  312,\n",
       "  58,\n",
       "  1,\n",
       "  '78.65',\n",
       "  '2020-12-22 14:41:34.443'),\n",
       " (4,\n",
       "  '2020년 12월 22일 00시',\n",
       "  5,\n",
       "  513,\n",
       "  '전남',\n",
       "  425,\n",
       "  83,\n",
       "  4,\n",
       "  1,\n",
       "  '27.51',\n",
       "  '2020-12-22 14:41:34.443'),\n",
       " (5,\n",
       "  '2020년 12월 22일 00시',\n",
       "  7,\n",
       "  692,\n",
       "  '전북',\n",
       "  452,\n",
       "  233,\n",
       "  4,\n",
       "  0,\n",
       "  '38.08',\n",
       "  '2020-12-22 14:41:34.443'),\n",
       " (6,\n",
       "  '2020년 12월 22일 00시',\n",
       "  19,\n",
       "  1305,\n",
       "  '충남',\n",
       "  974,\n",
       "  312,\n",
       "  15,\n",
       "  2,\n",
       "  '61.49',\n",
       "  '2020-12-22 14:41:34.443'),\n",
       " (7,\n",
       "  '2020년 12월 22일 00시',\n",
       "  15,\n",
       "  834,\n",
       "  '충북',\n",
       "  441,\n",
       "  378,\n",
       "  30,\n",
       "  1,\n",
       "  '52.14',\n",
       "  '2020-12-22 14:41:34.443'),\n",
       " (8,\n",
       "  '2020년 12월 22일 00시',\n",
       "  13,\n",
       "  999,\n",
       "  '강원',\n",
       "  709,\n",
       "  277,\n",
       "  23,\n",
       "  0,\n",
       "  '64.85',\n",
       "  '2020-12-22 14:41:34.442'),\n",
       " (9,\n",
       "  '2020년 12월 22일 00시',\n",
       "  181,\n",
       "  12152,\n",
       "  '경기',\n",
       "  8608,\n",
       "  3363,\n",
       "  193,\n",
       "  13,\n",
       "  '91.71',\n",
       "  '2020-12-22 14:41:34.442'),\n",
       " (10,\n",
       "  '2020년 12월 22일 00시',\n",
       "  0,\n",
       "  130,\n",
       "  '세종',\n",
       "  122,\n",
       "  8,\n",
       "  1,\n",
       "  0,\n",
       "  '37.98',\n",
       "  '2020-12-22 14:41:34.442'),\n",
       " (11,\n",
       "  '2020년 12월 22일 00시',\n",
       "  17,\n",
       "  568,\n",
       "  '울산',\n",
       "  299,\n",
       "  252,\n",
       "  6,\n",
       "  0,\n",
       "  '49.52',\n",
       "  '2020-12-22 14:41:34.442'),\n",
       " (12,\n",
       "  '2020년 12월 22일 00시',\n",
       "  6,\n",
       "  708,\n",
       "  '대전',\n",
       "  577,\n",
       "  125,\n",
       "  9,\n",
       "  0,\n",
       "  '48.03',\n",
       "  '2020-12-22 14:41:34.442'),\n",
       " (13,\n",
       "  '2020년 12월 22일 00시',\n",
       "  3,\n",
       "  905,\n",
       "  '광주',\n",
       "  755,\n",
       "  147,\n",
       "  26,\n",
       "  0,\n",
       "  '62.13',\n",
       "  '2020-12-22 14:41:34.442'),\n",
       " (14,\n",
       "  '2020년 12월 22일 00시',\n",
       "  19,\n",
       "  2381,\n",
       "  '인천',\n",
       "  1617,\n",
       "  745,\n",
       "  44,\n",
       "  1,\n",
       "  '80.54',\n",
       "  '2020-12-22 14:41:34.441'),\n",
       " (15,\n",
       "  '2020년 12월 22일 00시',\n",
       "  200,\n",
       "  7557,\n",
       "  '대구',\n",
       "  7098,\n",
       "  259,\n",
       "  39,\n",
       "  0,\n",
       "  '310.16',\n",
       "  '2020-12-22 14:41:34.441'),\n",
       " (16,\n",
       "  '2020년 12월 22일 00시',\n",
       "  28,\n",
       "  1539,\n",
       "  '부산',\n",
       "  1039,\n",
       "  472,\n",
       "  26,\n",
       "  0,\n",
       "  '45.11',\n",
       "  '2020-12-22 14:41:34.441'),\n",
       " (17,\n",
       "  '2020년 12월 22일 00시',\n",
       "  144,\n",
       "  15356,\n",
       "  '서울',\n",
       "  8562,\n",
       "  6650,\n",
       "  309,\n",
       "  8,\n",
       "  '157.76',\n",
       "  '2020-12-22 14:41:34.441'),\n",
       " (18,\n",
       "  '2020년 12월 22일 00시',\n",
       "  722,\n",
       "  51460,\n",
       "  '합계',\n",
       "  35928,\n",
       "  14810,\n",
       "  824,\n",
       "  45,\n",
       "  '99.25',\n",
       "  '2020-12-22 14:41:34.441'),\n",
       " (19,\n",
       "  '2020년 12월 22일 00시',\n",
       "  1,\n",
       "  2361,\n",
       "  '검역',\n",
       "  1658,\n",
       "  702,\n",
       "  0,\n",
       "  18,\n",
       "  '-',\n",
       "  '2020-12-22 09:38:32.207'),\n",
       " (20,\n",
       "  '2020년 12월 22일 00시',\n",
       "  0,\n",
       "  271,\n",
       "  '제주',\n",
       "  103,\n",
       "  168,\n",
       "  19,\n",
       "  0,\n",
       "  '40.40',\n",
       "  '2020-12-22 09:38:32.207'),\n",
       " (21,\n",
       "  '2020년 12월 22일 00시',\n",
       "  3,\n",
       "  1095,\n",
       "  '경남',\n",
       "  768,\n",
       "  324,\n",
       "  18,\n",
       "  0,\n",
       "  '32.58',\n",
       "  '2020-12-22 09:38:32.207'),\n",
       " (22,\n",
       "  '2020년 12월 22일 00시',\n",
       "  61,\n",
       "  2094,\n",
       "  '경북',\n",
       "  1721,\n",
       "  312,\n",
       "  58,\n",
       "  1,\n",
       "  '78.65',\n",
       "  '2020-12-22 09:38:32.207'),\n",
       " (23,\n",
       "  '2020년 12월 22일 00시',\n",
       "  5,\n",
       "  513,\n",
       "  '전남',\n",
       "  425,\n",
       "  83,\n",
       "  4,\n",
       "  1,\n",
       "  '27.51',\n",
       "  '2020-12-22 09:38:32.206'),\n",
       " (24,\n",
       "  '2020년 12월 22일 00시',\n",
       "  7,\n",
       "  692,\n",
       "  '전북',\n",
       "  452,\n",
       "  233,\n",
       "  4,\n",
       "  0,\n",
       "  '38.08',\n",
       "  '2020-12-22 09:38:32.206'),\n",
       " (25,\n",
       "  '2020년 12월 22일 00시',\n",
       "  19,\n",
       "  1305,\n",
       "  '충남',\n",
       "  974,\n",
       "  312,\n",
       "  15,\n",
       "  2,\n",
       "  '61.49',\n",
       "  '2020-12-22 09:38:32.206'),\n",
       " (26,\n",
       "  '2020년 12월 22일 00시',\n",
       "  15,\n",
       "  834,\n",
       "  '충북',\n",
       "  441,\n",
       "  378,\n",
       "  30,\n",
       "  1,\n",
       "  '52.14',\n",
       "  '2020-12-22 09:38:32.206'),\n",
       " (27,\n",
       "  '2020년 12월 22일 00시',\n",
       "  13,\n",
       "  999,\n",
       "  '강원',\n",
       "  709,\n",
       "  277,\n",
       "  23,\n",
       "  0,\n",
       "  '64.85',\n",
       "  '2020-12-22 09:38:32.206'),\n",
       " (28,\n",
       "  '2020년 12월 22일 00시',\n",
       "  181,\n",
       "  12152,\n",
       "  '경기',\n",
       "  8608,\n",
       "  3363,\n",
       "  193,\n",
       "  13,\n",
       "  '91.71',\n",
       "  '2020-12-22 09:38:32.206'),\n",
       " (29,\n",
       "  '2020년 12월 22일 00시',\n",
       "  0,\n",
       "  130,\n",
       "  '세종',\n",
       "  122,\n",
       "  8,\n",
       "  1,\n",
       "  0,\n",
       "  '37.98',\n",
       "  '2020-12-22 09:38:32.205'),\n",
       " (30,\n",
       "  '2020년 12월 22일 00시',\n",
       "  17,\n",
       "  568,\n",
       "  '울산',\n",
       "  299,\n",
       "  252,\n",
       "  6,\n",
       "  0,\n",
       "  '49.52',\n",
       "  '2020-12-22 09:38:32.205'),\n",
       " (31,\n",
       "  '2020년 12월 22일 00시',\n",
       "  6,\n",
       "  708,\n",
       "  '대전',\n",
       "  577,\n",
       "  125,\n",
       "  9,\n",
       "  0,\n",
       "  '48.03',\n",
       "  '2020-12-22 09:38:32.205'),\n",
       " (32,\n",
       "  '2020년 12월 22일 00시',\n",
       "  3,\n",
       "  905,\n",
       "  '광주',\n",
       "  755,\n",
       "  147,\n",
       "  26,\n",
       "  0,\n",
       "  '62.13',\n",
       "  '2020-12-22 09:38:32.205'),\n",
       " (33,\n",
       "  '2020년 12월 22일 00시',\n",
       "  19,\n",
       "  2381,\n",
       "  '인천',\n",
       "  1617,\n",
       "  745,\n",
       "  44,\n",
       "  1,\n",
       "  '80.54',\n",
       "  '2020-12-22 09:38:32.205'),\n",
       " (34,\n",
       "  '2020년 12월 22일 00시',\n",
       "  200,\n",
       "  7557,\n",
       "  '대구',\n",
       "  7098,\n",
       "  259,\n",
       "  39,\n",
       "  0,\n",
       "  '310.16',\n",
       "  '2020-12-22 09:38:32.205'),\n",
       " (35,\n",
       "  '2020년 12월 22일 00시',\n",
       "  28,\n",
       "  1539,\n",
       "  '부산',\n",
       "  1039,\n",
       "  472,\n",
       "  26,\n",
       "  0,\n",
       "  '45.11',\n",
       "  '2020-12-22 09:38:32.204'),\n",
       " (36,\n",
       "  '2020년 12월 22일 00시',\n",
       "  144,\n",
       "  15356,\n",
       "  '서울',\n",
       "  8562,\n",
       "  6650,\n",
       "  309,\n",
       "  8,\n",
       "  '157.76',\n",
       "  '2020-12-22 09:38:32.204'),\n",
       " (37,\n",
       "  '2020년 12월 22일 00시',\n",
       "  722,\n",
       "  51460,\n",
       "  '합계',\n",
       "  35928,\n",
       "  14810,\n",
       "  824,\n",
       "  45,\n",
       "  '99.25',\n",
       "  '2020-12-22 09:38:32.204')]"
      ]
     },
     "metadata": {},
     "execution_count": 26
    }
   ],
   "source": [
    "rows"
   ]
  },
  {
   "cell_type": "code",
   "execution_count": 9,
   "metadata": {},
   "outputs": [
    {
     "output_type": "execute_result",
     "data": {
      "text/plain": [
       "'2020년 12월 23일 00시'"
      ]
     },
     "metadata": {},
     "execution_count": 9
    }
   ],
   "source": [
    "datetime.now().strftime('%Y년 %m월 %d일 00시')\n"
   ]
  },
  {
   "cell_type": "code",
   "execution_count": 3,
   "metadata": {},
   "outputs": [
    {
     "output_type": "stream",
     "name": "stdout",
     "text": [
      "<class 'pandas.core.frame.DataFrame'>\nRangeIndex: 275 entries, 0 to 274\nData columns (total 19 columns):\n #   Column  Non-Null Count  Dtype \n---  ------  --------------  ----- \n 0   date    275 non-null    object\n 1   서울      275 non-null    int64 \n 2   부산      275 non-null    int64 \n 3   대구      275 non-null    int64 \n 4   인천      275 non-null    int64 \n 5   대전      275 non-null    int64 \n 6   광주      275 non-null    int64 \n 7   울산      275 non-null    int64 \n 8   세종      275 non-null    int64 \n 9   경기      275 non-null    int64 \n 10  강원      275 non-null    int64 \n 11  충북      275 non-null    int64 \n 12  충남      275 non-null    int64 \n 13  경북      275 non-null    int64 \n 14  경남      275 non-null    int64 \n 15  전북      275 non-null    int64 \n 16  전남      275 non-null    int64 \n 17  제주      275 non-null    int64 \n 18  합계      275 non-null    int64 \ndtypes: int64(18), object(1)\nmemory usage: 40.9+ KB\n"
     ]
    }
   ],
   "source": [
    "covid.info()"
   ]
  },
  {
   "cell_type": "code",
   "execution_count": 11,
   "metadata": {},
   "outputs": [],
   "source": [
    "conn = sqlite3.connect('test.db')\n",
    "cur = conn.cursor()"
   ]
  },
  {
   "cell_type": "code",
   "execution_count": 12,
   "metadata": {},
   "outputs": [],
   "source": [
    "create_sql = '''create table daily (\n",
    "  ilja text not null primary key,\n",
    "  seoul int default 0, busan int default 0, daegu int default 0,\n",
    "  incheon int default 0, daejeon int default 0, gwangju int default 0,\n",
    "  ulsan int default 0, sejong int default 0, gyeonggi int default 0,\n",
    "  gangwon int default 0, chungbuk int default 0, chungnam int default 0,\n",
    "  gyeongbuk int default 0, gyeongnam int default 0, jeonbuk int default 0,\n",
    "  jeonnam int default 0, jeju int default 0, \n",
    "  gye int default 0);'''"
   ]
  },
  {
   "cell_type": "code",
   "execution_count": 14,
   "metadata": {},
   "outputs": [
    {
     "output_type": "stream",
     "name": "stdout",
     "text": [
      "exist\n"
     ]
    }
   ],
   "source": [
    "try:\n",
    "    cur.execute(create_sql)\n",
    "except:\n",
    "    print('exist')\n",
    "conn.commit()"
   ]
  },
  {
   "cell_type": "code",
   "execution_count": 15,
   "metadata": {},
   "outputs": [],
   "source": [
    "insert_sql = 'insert into daily values(?,?,?,?,?,?,?,?,?,?,?,?,?,?,?,?,?,?,?);'"
   ]
  },
  {
   "cell_type": "code",
   "execution_count": 16,
   "metadata": {},
   "outputs": [
    {
     "output_type": "error",
     "ename": "IntegrityError",
     "evalue": "UNIQUE constraint failed: daily.ilja",
     "traceback": [
      "\u001b[1;31m---------------------------------------------------------------------------\u001b[0m",
      "\u001b[1;31mIntegrityError\u001b[0m                            Traceback (most recent call last)",
      "\u001b[1;32m<ipython-input-16-9612ca8fe303>\u001b[0m in \u001b[0;36m<module>\u001b[1;34m\u001b[0m\n\u001b[0;32m      3\u001b[0m     \u001b[1;32mfor\u001b[0m \u001b[0mk\u001b[0m \u001b[1;32min\u001b[0m \u001b[0mrange\u001b[0m\u001b[1;33m(\u001b[0m\u001b[1;36m1\u001b[0m\u001b[1;33m,\u001b[0m\u001b[1;36m19\u001b[0m\u001b[1;33m)\u001b[0m\u001b[1;33m:\u001b[0m\u001b[1;33m\u001b[0m\u001b[1;33m\u001b[0m\u001b[0m\n\u001b[0;32m      4\u001b[0m         \u001b[0mparams\u001b[0m\u001b[1;33m.\u001b[0m\u001b[0mappend\u001b[0m\u001b[1;33m(\u001b[0m\u001b[0mint\u001b[0m\u001b[1;33m(\u001b[0m\u001b[0mcovid\u001b[0m\u001b[1;33m.\u001b[0m\u001b[0miloc\u001b[0m\u001b[1;33m[\u001b[0m\u001b[0mi\u001b[0m\u001b[1;33m,\u001b[0m\u001b[0mk\u001b[0m\u001b[1;33m]\u001b[0m\u001b[1;33m)\u001b[0m\u001b[1;33m)\u001b[0m\u001b[1;33m\u001b[0m\u001b[1;33m\u001b[0m\u001b[0m\n\u001b[1;32m----> 5\u001b[1;33m     \u001b[0mcur\u001b[0m\u001b[1;33m.\u001b[0m\u001b[0mexecute\u001b[0m\u001b[1;33m(\u001b[0m\u001b[0minsert_sql\u001b[0m\u001b[1;33m,\u001b[0m \u001b[0mparams\u001b[0m\u001b[1;33m)\u001b[0m\u001b[1;33m\u001b[0m\u001b[1;33m\u001b[0m\u001b[0m\n\u001b[0m\u001b[0;32m      6\u001b[0m     \u001b[0mconn\u001b[0m\u001b[1;33m.\u001b[0m\u001b[0mcommit\u001b[0m\u001b[1;33m(\u001b[0m\u001b[1;33m)\u001b[0m\u001b[1;33m\u001b[0m\u001b[1;33m\u001b[0m\u001b[0m\n",
      "\u001b[1;31mIntegrityError\u001b[0m: UNIQUE constraint failed: daily.ilja"
     ]
    }
   ],
   "source": [
    "for i in range(len(covid)):\n",
    "    params = [covid.iloc[i,0]]\n",
    "    for k in range(1,19):\n",
    "        params.append(int(covid.iloc[i,k]))\n",
    "    cur.execute(insert_sql, params)\n",
    "    conn.commit()"
   ]
  },
  {
   "cell_type": "code",
   "execution_count": 9,
   "metadata": {},
   "outputs": [],
   "source": [
    "cur.close()\n",
    "conn.close()"
   ]
  },
  {
   "cell_type": "code",
   "execution_count": 5,
   "metadata": {},
   "outputs": [],
   "source": [
    "import requests\n",
    "import pandas as pd\n",
    "from bs4 import BeautifulSoup"
   ]
  },
  {
   "cell_type": "code",
   "execution_count": 6,
   "metadata": {},
   "outputs": [],
   "source": [
    "key_fd = open('../../static/data/corona_key.txt', mode='r')\n",
    "covid_key = key_fd.read(200)\n",
    "key_fd.close()"
   ]
  },
  {
   "cell_type": "code",
   "execution_count": 13,
   "metadata": {},
   "outputs": [],
   "source": [
    "start_date = '20200302'\n",
    "end_date = datetime.datetime.now().strftime('%Y%m%d')\n",
    "page = 1"
   ]
  },
  {
   "cell_type": "code",
   "execution_count": 15,
   "metadata": {},
   "outputs": [
    {
     "output_type": "execute_result",
     "data": {
      "text/plain": [
       "'20201222'"
      ]
     },
     "metadata": {},
     "execution_count": 15
    }
   ],
   "source": [
    "end_date"
   ]
  },
  {
   "cell_type": "code",
   "execution_count": 27,
   "metadata": {},
   "outputs": [],
   "source": [
    "def change_date(x):\n",
    "    y = x.split(' ')\n",
    "    month = y[1][:-1] if len(y[1][:-1]) == 2 else '0'+y[1][:-1]\n",
    "    day = y[2][:-1] if len(y[2][:-1]) == 2 else '0'+y[2][:-1]\n",
    "    return f'{y[0][:-1]}-{month}-{day}'"
   ]
  },
  {
   "cell_type": "code",
   "execution_count": 16,
   "metadata": {},
   "outputs": [],
   "source": [
    "corona_url = 'http://openapi.data.go.kr/openapi/service/rest/Covid19/getCovid19SidoInfStateJson'\n",
    "url = f'{corona_url}?ServiceKey={covid_key}&pageNo={page}&numOfRows=10&startCreateDt={start_date}&endCreateDt={end_date}'"
   ]
  },
  {
   "cell_type": "code",
   "execution_count": 17,
   "metadata": {},
   "outputs": [
    {
     "output_type": "stream",
     "name": "stdout",
     "text": [
      "5785\n"
     ]
    }
   ],
   "source": [
    "result = requests.get(url)\n",
    "soup = BeautifulSoup(result.text, 'xml')\n",
    "resultCode = soup.find('resultCode').get_text()\n",
    "if resultCode == '00':\n",
    "    print(soup.find('totalCount').string)\n",
    "elif resultCode == '99':\n",
    "    print(soup.find('resultMsg').string)"
   ]
  },
  {
   "cell_type": "code",
   "execution_count": 18,
   "metadata": {},
   "outputs": [
    {
     "output_type": "execute_result",
     "data": {
      "text/plain": [
       "                         등록시간 사망자   확진자 광역시도 전일대비  격리해제  격리중 지역발생 해외유입  10만명당  \\\n",
       "0     2020-12-22 14:41:34.444   1  2361   검역   18  1658  702    0   18      -   \n",
       "1     2020-12-22 14:41:34.444   0   271   제주   19   103  168   19    0  40.40   \n",
       "2     2020-12-22 14:41:34.443   3  1095   경남   18   768  324   18    0  32.58   \n",
       "3     2020-12-22 14:41:34.443  61  2094   경북   59  1721  312   58    1  78.65   \n",
       "4     2020-12-22 14:41:34.443   5   513   전남    5   425   83    4    1  27.51   \n",
       "...                       ...  ..   ...  ...  ...   ...  ...  ...  ...    ...   \n",
       "5780   2020-03-02 19:27:57.57   0         인천    0                        None   \n",
       "5781   2020-03-02 19:27:57.57   9         대구  469                        None   \n",
       "5782   2020-03-02 19:27:57.57   0         부산    3                        None   \n",
       "5783   2020-03-02 19:27:57.57   0         서울   10                        None   \n",
       "5784   2020-03-02 19:27:57.57  18         합계  586                        None   \n",
       "\n",
       "     ID               기준시간  수정시간  \n",
       "0        2020년 12월 22일 00시  null  \n",
       "1        2020년 12월 22일 00시  null  \n",
       "2        2020년 12월 22일 00시  null  \n",
       "3        2020년 12월 22일 00시  null  \n",
       "4        2020년 12월 22일 00시  null  \n",
       "...  ..                ...   ...  \n",
       "5780       2020년 3월 1일 16시  None  \n",
       "5781       2020년 3월 1일 16시  None  \n",
       "5782       2020년 3월 1일 16시  None  \n",
       "5783       2020년 3월 1일 16시  None  \n",
       "5784       2020년 3월 1일 16시  None  \n",
       "\n",
       "[5785 rows x 13 columns]"
      ],
      "text/html": "<div>\n<style scoped>\n    .dataframe tbody tr th:only-of-type {\n        vertical-align: middle;\n    }\n\n    .dataframe tbody tr th {\n        vertical-align: top;\n    }\n\n    .dataframe thead th {\n        text-align: right;\n    }\n</style>\n<table border=\"1\" class=\"dataframe\">\n  <thead>\n    <tr style=\"text-align: right;\">\n      <th></th>\n      <th>등록시간</th>\n      <th>사망자</th>\n      <th>확진자</th>\n      <th>광역시도</th>\n      <th>전일대비</th>\n      <th>격리해제</th>\n      <th>격리중</th>\n      <th>지역발생</th>\n      <th>해외유입</th>\n      <th>10만명당</th>\n      <th>ID</th>\n      <th>기준시간</th>\n      <th>수정시간</th>\n    </tr>\n  </thead>\n  <tbody>\n    <tr>\n      <th>0</th>\n      <td>2020-12-22 14:41:34.444</td>\n      <td>1</td>\n      <td>2361</td>\n      <td>검역</td>\n      <td>18</td>\n      <td>1658</td>\n      <td>702</td>\n      <td>0</td>\n      <td>18</td>\n      <td>-</td>\n      <td></td>\n      <td>2020년 12월 22일 00시</td>\n      <td>null</td>\n    </tr>\n    <tr>\n      <th>1</th>\n      <td>2020-12-22 14:41:34.444</td>\n      <td>0</td>\n      <td>271</td>\n      <td>제주</td>\n      <td>19</td>\n      <td>103</td>\n      <td>168</td>\n      <td>19</td>\n      <td>0</td>\n      <td>40.40</td>\n      <td></td>\n      <td>2020년 12월 22일 00시</td>\n      <td>null</td>\n    </tr>\n    <tr>\n      <th>2</th>\n      <td>2020-12-22 14:41:34.443</td>\n      <td>3</td>\n      <td>1095</td>\n      <td>경남</td>\n      <td>18</td>\n      <td>768</td>\n      <td>324</td>\n      <td>18</td>\n      <td>0</td>\n      <td>32.58</td>\n      <td></td>\n      <td>2020년 12월 22일 00시</td>\n      <td>null</td>\n    </tr>\n    <tr>\n      <th>3</th>\n      <td>2020-12-22 14:41:34.443</td>\n      <td>61</td>\n      <td>2094</td>\n      <td>경북</td>\n      <td>59</td>\n      <td>1721</td>\n      <td>312</td>\n      <td>58</td>\n      <td>1</td>\n      <td>78.65</td>\n      <td></td>\n      <td>2020년 12월 22일 00시</td>\n      <td>null</td>\n    </tr>\n    <tr>\n      <th>4</th>\n      <td>2020-12-22 14:41:34.443</td>\n      <td>5</td>\n      <td>513</td>\n      <td>전남</td>\n      <td>5</td>\n      <td>425</td>\n      <td>83</td>\n      <td>4</td>\n      <td>1</td>\n      <td>27.51</td>\n      <td></td>\n      <td>2020년 12월 22일 00시</td>\n      <td>null</td>\n    </tr>\n    <tr>\n      <th>...</th>\n      <td>...</td>\n      <td>...</td>\n      <td>...</td>\n      <td>...</td>\n      <td>...</td>\n      <td>...</td>\n      <td>...</td>\n      <td>...</td>\n      <td>...</td>\n      <td>...</td>\n      <td>...</td>\n      <td>...</td>\n      <td>...</td>\n    </tr>\n    <tr>\n      <th>5780</th>\n      <td>2020-03-02 19:27:57.57</td>\n      <td>0</td>\n      <td></td>\n      <td>인천</td>\n      <td>0</td>\n      <td></td>\n      <td></td>\n      <td></td>\n      <td></td>\n      <td>None</td>\n      <td></td>\n      <td>2020년 3월 1일 16시</td>\n      <td>None</td>\n    </tr>\n    <tr>\n      <th>5781</th>\n      <td>2020-03-02 19:27:57.57</td>\n      <td>9</td>\n      <td></td>\n      <td>대구</td>\n      <td>469</td>\n      <td></td>\n      <td></td>\n      <td></td>\n      <td></td>\n      <td>None</td>\n      <td></td>\n      <td>2020년 3월 1일 16시</td>\n      <td>None</td>\n    </tr>\n    <tr>\n      <th>5782</th>\n      <td>2020-03-02 19:27:57.57</td>\n      <td>0</td>\n      <td></td>\n      <td>부산</td>\n      <td>3</td>\n      <td></td>\n      <td></td>\n      <td></td>\n      <td></td>\n      <td>None</td>\n      <td></td>\n      <td>2020년 3월 1일 16시</td>\n      <td>None</td>\n    </tr>\n    <tr>\n      <th>5783</th>\n      <td>2020-03-02 19:27:57.57</td>\n      <td>0</td>\n      <td></td>\n      <td>서울</td>\n      <td>10</td>\n      <td></td>\n      <td></td>\n      <td></td>\n      <td></td>\n      <td>None</td>\n      <td></td>\n      <td>2020년 3월 1일 16시</td>\n      <td>None</td>\n    </tr>\n    <tr>\n      <th>5784</th>\n      <td>2020-03-02 19:27:57.57</td>\n      <td>18</td>\n      <td></td>\n      <td>합계</td>\n      <td>586</td>\n      <td></td>\n      <td></td>\n      <td></td>\n      <td></td>\n      <td>None</td>\n      <td></td>\n      <td>2020년 3월 1일 16시</td>\n      <td>None</td>\n    </tr>\n  </tbody>\n</table>\n<p>5785 rows × 13 columns</p>\n</div>"
     },
     "metadata": {},
     "execution_count": 18
    }
   ],
   "source": [
    "createDt_list,deathCnt_list,defCnt_list,gubun_list,incDec_list = [],[],[],[],[]\n",
    "isolClearCnt_list,isolIngCnt_list,localOccCnt_list,overFlowCnt_list = [],[],[],[]\n",
    "qurRate_list,seq_list,stdDay_list,updateDt_list = [],[],[],[]\n",
    "items = soup.find_all('item')\n",
    "for item in items:\n",
    "    createDt_list.append(item.find('createDt').string if item.find('createDt') else '')\n",
    "    deathCnt_list.append(item.find('deathCnt').string if item.find('deathCnt') else '')\n",
    "    defCnt_list.append(item.find('defCnt').string if item.find('defCnt') else '')\n",
    "    gubun_list.append(item.find('gubun').string if item.find('gubun') else '')\n",
    "    incDec_list.append(item.find('incDec').string if item.find('incDec') else '')\n",
    "    isolClearCnt_list.append(item.find('isolClearCnt').string if item.find('isolClearCnt') else '')\n",
    "    isolIngCnt_list.append(item.find('isolIngCnt').string if item.find('isolIngCnt') else '')\n",
    "    localOccCnt_list.append(item.find('localOccCnt').string if item.find('localOccCnt') else '')\n",
    "    overFlowCnt_list.append(item.find('overFlowCnt').string if item.find('overFlowCnt') else '')\n",
    "    qurRate_list.append(item.find('qurRate').string if item.find('qurRate') else '')\n",
    "    seq_list.append(item.find('seq_list').string if item.find('seq_list') else '')\n",
    "    stdDay_list.append(change_date(item.find('stdDay').string if item.find('stdDay') else ''))\n",
    "    updateDt_list.append(item.find('updateDt').string if item.find('updateDt') else '')\n",
    "\n",
    "df = pd.DataFrame({\n",
    "    'createDt':createDt_list, 'deathCnt':deathCnt_list, 'defCnt':defCnt_list,\n",
    "    'gubun':gubun_list, 'incDec':incDec_list, 'isolClearCnt':isolClearCnt_list, \n",
    "    'isolIngCnt':isolIngCnt_list, 'localOccCnt':localOccCnt_list,'overFlowCnt':overFlowCnt_list,\n",
    "    'qurRate':qurRate_list, 'seq':seq_list, 'stdDay':stdDay_list, 'updateDt':updateDt_list\n",
    "})\n",
    "df"
   ]
  },
  {
   "cell_type": "code",
   "execution_count": 19,
   "metadata": {},
   "outputs": [
    {
     "output_type": "execute_result",
     "data": {
      "text/plain": [
       "                   기준시간 사망자   확진자 광역시도  격리해제  격리중 지역발생 해외유입  10만명당  \\\n",
       "0     2020년 12월 22일 00시   1  2361   검역  1658  702    0   18      -   \n",
       "1     2020년 12월 22일 00시   0   271   제주   103  168   19    0  40.40   \n",
       "2     2020년 12월 22일 00시   3  1095   경남   768  324   18    0  32.58   \n",
       "3     2020년 12월 22일 00시  61  2094   경북  1721  312   58    1  78.65   \n",
       "4     2020년 12월 22일 00시   5   513   전남   425   83    4    1  27.51   \n",
       "...                 ...  ..   ...  ...   ...  ...  ...  ...    ...   \n",
       "5780    2020년 3월 1일 16시   0     0   인천     0    0    0    0   None   \n",
       "5781    2020년 3월 1일 16시   9     0   대구     0    0    0    0   None   \n",
       "5782    2020년 3월 1일 16시   0     0   부산     0    0    0    0   None   \n",
       "5783    2020년 3월 1일 16시   0     0   서울     0    0    0    0   None   \n",
       "5784    2020년 3월 1일 16시  18     0   합계     0    0    0    0   None   \n",
       "\n",
       "                         등록시간  \n",
       "0     2020-12-22 14:41:34.444  \n",
       "1     2020-12-22 14:41:34.444  \n",
       "2     2020-12-22 14:41:34.443  \n",
       "3     2020-12-22 14:41:34.443  \n",
       "4     2020-12-22 14:41:34.443  \n",
       "...                       ...  \n",
       "5780   2020-03-02 19:27:57.57  \n",
       "5781   2020-03-02 19:27:57.57  \n",
       "5782   2020-03-02 19:27:57.57  \n",
       "5783   2020-03-02 19:27:57.57  \n",
       "5784   2020-03-02 19:27:57.57  \n",
       "\n",
       "[5785 rows x 10 columns]"
      ],
      "text/html": "<div>\n<style scoped>\n    .dataframe tbody tr th:only-of-type {\n        vertical-align: middle;\n    }\n\n    .dataframe tbody tr th {\n        vertical-align: top;\n    }\n\n    .dataframe thead th {\n        text-align: right;\n    }\n</style>\n<table border=\"1\" class=\"dataframe\">\n  <thead>\n    <tr style=\"text-align: right;\">\n      <th></th>\n      <th>기준시간</th>\n      <th>사망자</th>\n      <th>확진자</th>\n      <th>광역시도</th>\n      <th>격리해제</th>\n      <th>격리중</th>\n      <th>지역발생</th>\n      <th>해외유입</th>\n      <th>10만명당</th>\n      <th>등록시간</th>\n    </tr>\n  </thead>\n  <tbody>\n    <tr>\n      <th>0</th>\n      <td>2020년 12월 22일 00시</td>\n      <td>1</td>\n      <td>2361</td>\n      <td>검역</td>\n      <td>1658</td>\n      <td>702</td>\n      <td>0</td>\n      <td>18</td>\n      <td>-</td>\n      <td>2020-12-22 14:41:34.444</td>\n    </tr>\n    <tr>\n      <th>1</th>\n      <td>2020년 12월 22일 00시</td>\n      <td>0</td>\n      <td>271</td>\n      <td>제주</td>\n      <td>103</td>\n      <td>168</td>\n      <td>19</td>\n      <td>0</td>\n      <td>40.40</td>\n      <td>2020-12-22 14:41:34.444</td>\n    </tr>\n    <tr>\n      <th>2</th>\n      <td>2020년 12월 22일 00시</td>\n      <td>3</td>\n      <td>1095</td>\n      <td>경남</td>\n      <td>768</td>\n      <td>324</td>\n      <td>18</td>\n      <td>0</td>\n      <td>32.58</td>\n      <td>2020-12-22 14:41:34.443</td>\n    </tr>\n    <tr>\n      <th>3</th>\n      <td>2020년 12월 22일 00시</td>\n      <td>61</td>\n      <td>2094</td>\n      <td>경북</td>\n      <td>1721</td>\n      <td>312</td>\n      <td>58</td>\n      <td>1</td>\n      <td>78.65</td>\n      <td>2020-12-22 14:41:34.443</td>\n    </tr>\n    <tr>\n      <th>4</th>\n      <td>2020년 12월 22일 00시</td>\n      <td>5</td>\n      <td>513</td>\n      <td>전남</td>\n      <td>425</td>\n      <td>83</td>\n      <td>4</td>\n      <td>1</td>\n      <td>27.51</td>\n      <td>2020-12-22 14:41:34.443</td>\n    </tr>\n    <tr>\n      <th>...</th>\n      <td>...</td>\n      <td>...</td>\n      <td>...</td>\n      <td>...</td>\n      <td>...</td>\n      <td>...</td>\n      <td>...</td>\n      <td>...</td>\n      <td>...</td>\n      <td>...</td>\n    </tr>\n    <tr>\n      <th>5780</th>\n      <td>2020년 3월 1일 16시</td>\n      <td>0</td>\n      <td>0</td>\n      <td>인천</td>\n      <td>0</td>\n      <td>0</td>\n      <td>0</td>\n      <td>0</td>\n      <td>None</td>\n      <td>2020-03-02 19:27:57.57</td>\n    </tr>\n    <tr>\n      <th>5781</th>\n      <td>2020년 3월 1일 16시</td>\n      <td>9</td>\n      <td>0</td>\n      <td>대구</td>\n      <td>0</td>\n      <td>0</td>\n      <td>0</td>\n      <td>0</td>\n      <td>None</td>\n      <td>2020-03-02 19:27:57.57</td>\n    </tr>\n    <tr>\n      <th>5782</th>\n      <td>2020년 3월 1일 16시</td>\n      <td>0</td>\n      <td>0</td>\n      <td>부산</td>\n      <td>0</td>\n      <td>0</td>\n      <td>0</td>\n      <td>0</td>\n      <td>None</td>\n      <td>2020-03-02 19:27:57.57</td>\n    </tr>\n    <tr>\n      <th>5783</th>\n      <td>2020년 3월 1일 16시</td>\n      <td>0</td>\n      <td>0</td>\n      <td>서울</td>\n      <td>0</td>\n      <td>0</td>\n      <td>0</td>\n      <td>0</td>\n      <td>None</td>\n      <td>2020-03-02 19:27:57.57</td>\n    </tr>\n    <tr>\n      <th>5784</th>\n      <td>2020년 3월 1일 16시</td>\n      <td>18</td>\n      <td>0</td>\n      <td>합계</td>\n      <td>0</td>\n      <td>0</td>\n      <td>0</td>\n      <td>0</td>\n      <td>None</td>\n      <td>2020-03-02 19:27:57.57</td>\n    </tr>\n  </tbody>\n</table>\n<p>5785 rows × 10 columns</p>\n</div>"
     },
     "metadata": {},
     "execution_count": 19
    }
   ],
   "source": [
    "df_result = df[['기준시간', '사망자', '확진자', '광역시도', '격리해제', '격리중', '지역발생', '해외유입', '10만명당','등록시간']]\n",
    "df_result.replace('',0)"
   ]
  },
  {
   "cell_type": "code",
   "execution_count": 20,
   "metadata": {},
   "outputs": [],
   "source": [
    "df = df.replace('',0).astype(int)"
   ]
  },
  {
   "cell_type": "code",
   "execution_count": 25,
   "metadata": {},
   "outputs": [
    {
     "output_type": "execute_result",
     "data": {
      "text/plain": [
       "1        252\n",
       "2       1077\n",
       "3       2035\n",
       "4        508\n",
       "5        688\n",
       "        ... \n",
       "5741       0\n",
       "5742       0\n",
       "5743       0\n",
       "5744       0\n",
       "5745       0\n",
       "Name: 확진자, Length: 5151, dtype: int32"
      ]
     },
     "metadata": {},
     "execution_count": 25
    }
   ],
   "source": []
  },
  {
   "cell_type": "code",
   "execution_count": 21,
   "metadata": {},
   "outputs": [],
   "source": [
    "conn = sqlite3.connect('test.db')\n",
    "df_result.to_sql('regeon',conn,if_exists='replace')\n",
    "conn.close()"
   ]
  },
  {
   "cell_type": "code",
   "execution_count": 22,
   "metadata": {},
   "outputs": [],
   "source": [
    "conn.close()"
   ]
  },
  {
   "cell_type": "code",
   "execution_count": 123,
   "metadata": {},
   "outputs": [
    {
     "output_type": "execute_result",
     "data": {
      "text/plain": [
       "                   기준시간 사망자   확진자 광역시도  격리해제  격리중 지역발생 해외유입  10만명당  \\\n",
       "1     2020년 12월 21일 00시   0   252   제주   102  150   23    0  18.93   \n",
       "2     2020년 12월 21일 00시   3  1077   경남   748  326   15    0  26.36   \n",
       "3     2020년 12월 21일 00시  61  2035   경북  1715  259   48    0  70.05   \n",
       "4     2020년 12월 21일 00시   5   508   전남   418   85    8    1  25.79   \n",
       "5     2020년 12월 21일 00시   7   688   전북   441  240   11    2  28.67   \n",
       "...                 ...  ..   ...  ...   ...  ...  ...  ...    ...   \n",
       "5741    2020년 3월 1일 16시   0         광주                        None   \n",
       "5742    2020년 3월 1일 16시   0         인천                        None   \n",
       "5743    2020년 3월 1일 16시   9         대구                        None   \n",
       "5744    2020년 3월 1일 16시   0         부산                        None   \n",
       "5745    2020년 3월 1일 16시   0         서울                        None   \n",
       "\n",
       "                         등록시간  \n",
       "1     2020-12-21 09:35:38.526  \n",
       "2     2020-12-21 09:35:38.525  \n",
       "3     2020-12-21 09:35:38.525  \n",
       "4     2020-12-21 09:35:38.525  \n",
       "5     2020-12-21 09:35:38.525  \n",
       "...                       ...  \n",
       "5741   2020-03-02 19:27:57.57  \n",
       "5742   2020-03-02 19:27:57.57  \n",
       "5743   2020-03-02 19:27:57.57  \n",
       "5744   2020-03-02 19:27:57.57  \n",
       "5745   2020-03-02 19:27:57.57  \n",
       "\n",
       "[5151 rows x 10 columns]"
      ],
      "text/html": "<div>\n<style scoped>\n    .dataframe tbody tr th:only-of-type {\n        vertical-align: middle;\n    }\n\n    .dataframe tbody tr th {\n        vertical-align: top;\n    }\n\n    .dataframe thead th {\n        text-align: right;\n    }\n</style>\n<table border=\"1\" class=\"dataframe\">\n  <thead>\n    <tr style=\"text-align: right;\">\n      <th></th>\n      <th>기준시간</th>\n      <th>사망자</th>\n      <th>확진자</th>\n      <th>광역시도</th>\n      <th>격리해제</th>\n      <th>격리중</th>\n      <th>지역발생</th>\n      <th>해외유입</th>\n      <th>10만명당</th>\n      <th>등록시간</th>\n    </tr>\n  </thead>\n  <tbody>\n    <tr>\n      <th>1</th>\n      <td>2020년 12월 21일 00시</td>\n      <td>0</td>\n      <td>252</td>\n      <td>제주</td>\n      <td>102</td>\n      <td>150</td>\n      <td>23</td>\n      <td>0</td>\n      <td>18.93</td>\n      <td>2020-12-21 09:35:38.526</td>\n    </tr>\n    <tr>\n      <th>2</th>\n      <td>2020년 12월 21일 00시</td>\n      <td>3</td>\n      <td>1077</td>\n      <td>경남</td>\n      <td>748</td>\n      <td>326</td>\n      <td>15</td>\n      <td>0</td>\n      <td>26.36</td>\n      <td>2020-12-21 09:35:38.525</td>\n    </tr>\n    <tr>\n      <th>3</th>\n      <td>2020년 12월 21일 00시</td>\n      <td>61</td>\n      <td>2035</td>\n      <td>경북</td>\n      <td>1715</td>\n      <td>259</td>\n      <td>48</td>\n      <td>0</td>\n      <td>70.05</td>\n      <td>2020-12-21 09:35:38.525</td>\n    </tr>\n    <tr>\n      <th>4</th>\n      <td>2020년 12월 21일 00시</td>\n      <td>5</td>\n      <td>508</td>\n      <td>전남</td>\n      <td>418</td>\n      <td>85</td>\n      <td>8</td>\n      <td>1</td>\n      <td>25.79</td>\n      <td>2020-12-21 09:35:38.525</td>\n    </tr>\n    <tr>\n      <th>5</th>\n      <td>2020년 12월 21일 00시</td>\n      <td>7</td>\n      <td>688</td>\n      <td>전북</td>\n      <td>441</td>\n      <td>240</td>\n      <td>11</td>\n      <td>2</td>\n      <td>28.67</td>\n      <td>2020-12-21 09:35:38.525</td>\n    </tr>\n    <tr>\n      <th>...</th>\n      <td>...</td>\n      <td>...</td>\n      <td>...</td>\n      <td>...</td>\n      <td>...</td>\n      <td>...</td>\n      <td>...</td>\n      <td>...</td>\n      <td>...</td>\n      <td>...</td>\n    </tr>\n    <tr>\n      <th>5741</th>\n      <td>2020년 3월 1일 16시</td>\n      <td>0</td>\n      <td></td>\n      <td>광주</td>\n      <td></td>\n      <td></td>\n      <td></td>\n      <td></td>\n      <td>None</td>\n      <td>2020-03-02 19:27:57.57</td>\n    </tr>\n    <tr>\n      <th>5742</th>\n      <td>2020년 3월 1일 16시</td>\n      <td>0</td>\n      <td></td>\n      <td>인천</td>\n      <td></td>\n      <td></td>\n      <td></td>\n      <td></td>\n      <td>None</td>\n      <td>2020-03-02 19:27:57.57</td>\n    </tr>\n    <tr>\n      <th>5743</th>\n      <td>2020년 3월 1일 16시</td>\n      <td>9</td>\n      <td></td>\n      <td>대구</td>\n      <td></td>\n      <td></td>\n      <td></td>\n      <td></td>\n      <td>None</td>\n      <td>2020-03-02 19:27:57.57</td>\n    </tr>\n    <tr>\n      <th>5744</th>\n      <td>2020년 3월 1일 16시</td>\n      <td>0</td>\n      <td></td>\n      <td>부산</td>\n      <td></td>\n      <td></td>\n      <td></td>\n      <td></td>\n      <td>None</td>\n      <td>2020-03-02 19:27:57.57</td>\n    </tr>\n    <tr>\n      <th>5745</th>\n      <td>2020년 3월 1일 16시</td>\n      <td>0</td>\n      <td></td>\n      <td>서울</td>\n      <td></td>\n      <td></td>\n      <td></td>\n      <td></td>\n      <td>None</td>\n      <td>2020-03-02 19:27:57.57</td>\n    </tr>\n  </tbody>\n</table>\n<p>5151 rows × 10 columns</p>\n</div>"
     },
     "metadata": {},
     "execution_count": 123
    }
   ],
   "source": [
    "create_sql = '''create table daily (\n",
    "  standard_Time text, death int default 0, confirmed_patient int default 0,\n",
    "  sido text, quarantine_release int default 0,\n",
    "  Quarantine int default 0, Local occurrence int default 0, gyeonggi int default 0,\n",
    "  gangwon int default 0, chungbuk int default 0, chungnam int default 0,\n",
    "  gyeongbuk int default 0, gyeongnam int default 0, jeonbuk int default 0,\n",
    "  jeonnam int default 0, jeju int default 0, \n",
    "  gye int default 0);'''\n",
    "conn = sqlite3.connect('test.db')\n",
    "cur = conn.cursor()\n",
    "cur.execute(create_sql)\n",
    "conn.commit()\n",
    "conn.close()"
   ]
  },
  {
   "cell_type": "code",
   "execution_count": null,
   "metadata": {},
   "outputs": [],
   "source": [
    "df_result[]"
   ]
  },
  {
   "cell_type": "code",
   "execution_count": 104,
   "metadata": {},
   "outputs": [],
   "source": [
    "df_result['등록시간'] = df_result['등록시간'].apply(pd.to_datetime).dt.date"
   ]
  },
  {
   "cell_type": "code",
   "execution_count": 110,
   "metadata": {},
   "outputs": [
    {
     "output_type": "execute_result",
     "data": {
      "text/plain": [
       "1       2020-12-21\n",
       "2       2020-12-21\n",
       "3       2020-12-21\n",
       "4       2020-12-21\n",
       "5       2020-12-21\n",
       "           ...    \n",
       "5741    2020-03-02\n",
       "5742    2020-03-02\n",
       "5743    2020-03-02\n",
       "5744    2020-03-02\n",
       "5745    2020-03-02\n",
       "Name: 등록시간, Length: 5151, dtype: object"
      ]
     },
     "metadata": {},
     "execution_count": 110
    }
   ],
   "source": [
    "df_result['등록시간']"
   ]
  },
  {
   "cell_type": "code",
   "execution_count": 101,
   "metadata": {},
   "outputs": [
    {
     "output_type": "execute_result",
     "data": {
      "text/plain": [
       "True"
      ]
     },
     "metadata": {},
     "execution_count": 101
    }
   ],
   "source": [
    "str(df_result['등록시간'].apply(pd.to_datetime).dt.date.iloc[0]) == datetime.datetime.now().strftime('%Y-%m-%d')"
   ]
  },
  {
   "cell_type": "code",
   "execution_count": 4,
   "metadata": {},
   "outputs": [
    {
     "output_type": "execute_result",
     "data": {
      "text/plain": [
       "str"
      ]
     },
     "metadata": {},
     "execution_count": 4
    }
   ],
   "source": [
    "datetime.datetime.now().strftime('%Y%m%d')"
   ]
  },
  {
   "cell_type": "code",
   "execution_count": 82,
   "metadata": {},
   "outputs": [
    {
     "output_type": "execute_result",
     "data": {
      "text/plain": [
       "1       2020-12-21 09:35:38.526\n",
       "2       2020-12-21 09:35:38.525\n",
       "3       2020-12-21 09:35:38.525\n",
       "4       2020-12-21 09:35:38.525\n",
       "5       2020-12-21 09:35:38.525\n",
       "                 ...           \n",
       "5741     2020-03-02 19:27:57.57\n",
       "5742     2020-03-02 19:27:57.57\n",
       "5743     2020-03-02 19:27:57.57\n",
       "5744     2020-03-02 19:27:57.57\n",
       "5745     2020-03-02 19:27:57.57\n",
       "Name: 등록시간, Length: 5151, dtype: object"
      ]
     },
     "metadata": {},
     "execution_count": 82
    }
   ],
   "source": [
    "df_result['등록시간'] == str(datetime.datetime.now().strftime('%Y-%m-%d'))"
   ]
  },
  {
   "cell_type": "code",
   "execution_count": 103,
   "metadata": {},
   "outputs": [
    {
     "output_type": "execute_result",
     "data": {
      "text/plain": [
       "기준시간            2020년 3월 1일 16시\n",
       "사망자                           0\n",
       "확진자                            \n",
       "광역시도                         서울\n",
       "격리해제                           \n",
       "격리중                            \n",
       "지역발생                           \n",
       "해외유입                           \n",
       "10만명당                      None\n",
       "등록시간     2020-03-02 19:27:57.57\n",
       "Name: 5745, dtype: object"
      ]
     },
     "metadata": {},
     "execution_count": 103
    }
   ],
   "source": [
    "df_result.loc['확진자']"
   ]
  },
  {
   "cell_type": "code",
   "execution_count": null,
   "metadata": {},
   "outputs": [],
   "source": []
  }
 ]
}