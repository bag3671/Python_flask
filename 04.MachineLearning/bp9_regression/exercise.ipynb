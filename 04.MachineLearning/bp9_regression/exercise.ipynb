{
 "metadata": {
  "language_info": {
   "codemirror_mode": {
    "name": "ipython",
    "version": 3
   },
   "file_extension": ".py",
   "mimetype": "text/x-python",
   "name": "python",
   "nbconvert_exporter": "python",
   "pygments_lexer": "ipython3",
   "version": "3.8.5-final"
  },
  "orig_nbformat": 2,
  "kernelspec": {
   "name": "python3",
   "display_name": "Python 3",
   "language": "python"
  }
 },
 "nbformat": 4,
 "nbformat_minor": 2,
 "cells": [
  {
   "cell_type": "code",
   "execution_count": 19,
   "metadata": {},
   "outputs": [],
   "source": [
    "import pandas as pd\n",
    "import numpy\n",
    "from sklearn.datasets import load_iris\n",
    "from sklearn.model_selection import train_test_split\n",
    "from sklearn.linear_model import LinearRegression\n",
    "from sklearn.metrics import mean_squared_error, r2_score"
   ]
  },
  {
   "cell_type": "code",
   "execution_count": 14,
   "metadata": {},
   "outputs": [
    {
     "output_type": "execute_result",
     "data": {
      "text/plain": [
       "    SL   SW   PL   PW  C\n",
       "0  5.1  3.5  1.4  0.2  0\n",
       "1  4.9  3.0  1.4  0.2  0\n",
       "2  4.7  3.2  1.3  0.2  0\n",
       "3  4.6  3.1  1.5  0.2  0\n",
       "4  5.0  3.6  1.4  0.2  0"
      ],
      "text/html": "<div>\n<style scoped>\n    .dataframe tbody tr th:only-of-type {\n        vertical-align: middle;\n    }\n\n    .dataframe tbody tr th {\n        vertical-align: top;\n    }\n\n    .dataframe thead th {\n        text-align: right;\n    }\n</style>\n<table border=\"1\" class=\"dataframe\">\n  <thead>\n    <tr style=\"text-align: right;\">\n      <th></th>\n      <th>SL</th>\n      <th>SW</th>\n      <th>PL</th>\n      <th>PW</th>\n      <th>C</th>\n    </tr>\n  </thead>\n  <tbody>\n    <tr>\n      <th>0</th>\n      <td>5.1</td>\n      <td>3.5</td>\n      <td>1.4</td>\n      <td>0.2</td>\n      <td>0</td>\n    </tr>\n    <tr>\n      <th>1</th>\n      <td>4.9</td>\n      <td>3.0</td>\n      <td>1.4</td>\n      <td>0.2</td>\n      <td>0</td>\n    </tr>\n    <tr>\n      <th>2</th>\n      <td>4.7</td>\n      <td>3.2</td>\n      <td>1.3</td>\n      <td>0.2</td>\n      <td>0</td>\n    </tr>\n    <tr>\n      <th>3</th>\n      <td>4.6</td>\n      <td>3.1</td>\n      <td>1.5</td>\n      <td>0.2</td>\n      <td>0</td>\n    </tr>\n    <tr>\n      <th>4</th>\n      <td>5.0</td>\n      <td>3.6</td>\n      <td>1.4</td>\n      <td>0.2</td>\n      <td>0</td>\n    </tr>\n  </tbody>\n</table>\n</div>"
     },
     "metadata": {},
     "execution_count": 14
    }
   ],
   "source": [
    "iris = load_iris()\n",
    "df = pd.DataFrame(data=iris.data,columns=[\"SL\",\"SW\",\"PL\",\"PW\"])\n",
    "df['C'] = iris.target\n",
    "df.head()"
   ]
  },
  {
   "cell_type": "code",
   "execution_count": 17,
   "metadata": {},
   "outputs": [
    {
     "output_type": "execute_result",
     "data": {
      "text/plain": [
       "LinearRegression()"
      ]
     },
     "metadata": {},
     "execution_count": 17
    }
   ],
   "source": [
    "y = df[\"PL\"] \n",
    "X = df[[\"SL\",\"SW\",\"PW\",\"C\"]] \n",
    "X_train, X_test, y_tarin, y_test = train_test_split(X, y, test_size = 0.2,random_state=2021) \n",
    "\n",
    "lr = LinearRegression()\n",
    "lr.fit(X_train,y_tarin)"
   ]
  },
  {
   "cell_type": "code",
   "execution_count": 20,
   "metadata": {},
   "outputs": [
    {
     "output_type": "stream",
     "name": "stdout",
     "text": [
      "mse : ,0.10, RMSE : 0.31\nR_squared : 0.9682\n"
     ]
    }
   ],
   "source": [
    "pred = lr.predict(X_test)\n",
    "mse = mean_squared_error(y_test,pred)\n",
    "r2 = r2_score(y_test,pred)\n",
    "print(f'mse : ,{mse:.2f}, RMSE : {np.sqrt(mse):.2f}')\n",
    "print(f'R_squared : {r2:.4f}')"
   ]
  },
  {
   "cell_type": "code",
   "execution_count": 21,
   "metadata": {},
   "outputs": [
    {
     "output_type": "error",
     "ename": "NameError",
     "evalue": "name 'request' is not defined",
     "traceback": [
      "\u001b[1;31m---------------------------------------------------------------------------\u001b[0m",
      "\u001b[1;31mNameError\u001b[0m                                 Traceback (most recent call last)",
      "\u001b[1;32m<ipython-input-21-fe9ba33cb14c>\u001b[0m in \u001b[0;36m<module>\u001b[1;34m\u001b[0m\n\u001b[0;32m      1\u001b[0m \u001b[0mindex\u001b[0m \u001b[1;33m=\u001b[0m \u001b[0mint\u001b[0m\u001b[1;33m(\u001b[0m\u001b[1;36m1\u001b[0m\u001b[1;33m)\u001b[0m\u001b[1;33m\u001b[0m\u001b[1;33m\u001b[0m\u001b[0m\n\u001b[1;32m----> 2\u001b[1;33m \u001b[0mfeature_name\u001b[0m \u001b[1;33m=\u001b[0m \u001b[0mrequest\u001b[0m\u001b[1;33m.\u001b[0m\u001b[0mform\u001b[0m\u001b[1;33m[\u001b[0m\u001b[1;34m'feature'\u001b[0m\u001b[1;33m]\u001b[0m\u001b[1;33m\u001b[0m\u001b[1;33m\u001b[0m\u001b[0m\n\u001b[0m\u001b[0;32m      3\u001b[0m column_dict = {'sl':'Sepal length', 'sw':'Sepal width', \n\u001b[0;32m      4\u001b[0m                 \u001b[1;34m'pl'\u001b[0m\u001b[1;33m:\u001b[0m\u001b[1;34m'Petal length'\u001b[0m\u001b[1;33m,\u001b[0m \u001b[1;34m'pw'\u001b[0m\u001b[1;33m:\u001b[0m\u001b[1;34m'Petal width'\u001b[0m\u001b[1;33m,\u001b[0m\u001b[1;33m\u001b[0m\u001b[1;33m\u001b[0m\u001b[0m\n\u001b[0;32m      5\u001b[0m                 'species':['Setosa', 'Versicolor', 'Virginica']}\n",
      "\u001b[1;31mNameError\u001b[0m: name 'request' is not defined"
     ]
    }
   ],
   "source": [
    "index = int(1)\n",
    "feature_name = request.form['feature']\n",
    "column_dict = {'sl':'Sepal length', 'sw':'Sepal width', \n",
    "                'pl':'Petal length', 'pw':'Petal width', \n",
    "                'species':['Setosa', 'Versicolor', 'Virginica']}\n",
    "column_list = list(column_dict.keys())\n",
    "\n",
    "df = pd.read_csv('static/data/iris_train.csv')\n",
    "df.columns = column_list\n",
    "X = df.drop(columns=feature_name, axis=1).values\n",
    "y = df[feature_name].values\n",
    "\n",
    "lr = LinearRegression()\n",
    "lr.fit(X, y)\n",
    "weight, bias = lr.coef_, lr.intercept_\n",
    "\n",
    "df_test = pd.read_csv('static/data/iris_test.csv')\n",
    "df_test.columns = column_list\n",
    "X_test = df_test.drop(columns=feature_name, axis=1).values[index]\n",
    "pred_value = np.dot(X_test, weight.T) + bias\n",
    "\n",
    "x_test = list(df_test.iloc[index,:-1].values)\n",
    "x_test.append(column_dict['species'][int(df_test.iloc[index,-1])])\n",
    "org = dict(zip(column_list, x_test))\n",
    "pred = dict(zip(column_list[:-1], [0,0,0,0]))\n",
    "pred[feature_name] = np.round(pred_value, 2)"
   ]
  },
  {
   "cell_type": "code",
   "execution_count": null,
   "metadata": {},
   "outputs": [],
   "source": []
  }
 ]
}