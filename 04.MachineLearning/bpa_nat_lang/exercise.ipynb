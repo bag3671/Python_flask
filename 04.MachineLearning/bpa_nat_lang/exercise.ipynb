{
 "metadata": {
  "language_info": {
   "codemirror_mode": {
    "name": "ipython",
    "version": 3
   },
   "file_extension": ".py",
   "mimetype": "text/x-python",
   "name": "python",
   "nbconvert_exporter": "python",
   "pygments_lexer": "ipython3",
   "version": "3.8.5-final"
  },
  "orig_nbformat": 2,
  "kernelspec": {
   "name": "python3",
   "display_name": "Python 3",
   "language": "python"
  }
 },
 "nbformat": 4,
 "nbformat_minor": 2,
 "cells": [
  {
   "cell_type": "code",
   "execution_count": 39,
   "metadata": {},
   "outputs": [],
   "source": [
    "import requests\n",
    "from urllib.parse import quote\n",
    "import json"
   ]
  },
  {
   "cell_type": "code",
   "execution_count": 40,
   "metadata": {},
   "outputs": [],
   "source": [
    "# text = '안녕하세요 반갑습니다'\n",
    "# text = 'Hello nice to meet you'\n",
    "text = '这部电影是垃圾电影'"
   ]
  },
  {
   "cell_type": "code",
   "execution_count": 41,
   "metadata": {},
   "outputs": [],
   "source": [
    "with open('../static/keys/kakaoaikey.txt') as kfile:\n",
    "    kai_key = kfile.read(200)"
   ]
  },
  {
   "cell_type": "code",
   "execution_count": 42,
   "metadata": {},
   "outputs": [],
   "source": [
    "url = 'https://dapi.kakao.com/v3/translation/language/detect'\n",
    "headers={ \"Authorization\" : \"KakaoAK \"+kai_key}\n",
    "data = {\n",
    "        \"query\" : text \n",
    "        }\n",
    "response = requests.post(url, headers=headers, data=data)\n",
    "rescode = response.status_code\n",
    "result = response.json()"
   ]
  },
  {
   "cell_type": "code",
   "execution_count": 43,
   "metadata": {},
   "outputs": [],
   "source": [
    "lang_code = result['language_info'][0]['code']"
   ]
  },
  {
   "cell_type": "code",
   "execution_count": 44,
   "metadata": {},
   "outputs": [
    {
     "output_type": "stream",
     "name": "stdout",
     "text": [
      "cn\n"
     ]
    }
   ],
   "source": [
    "if lang_code == 'kr':\n",
    "    print('kr')\n",
    "elif lang_code == 'en':\n",
    "    print('en')\n",
    "else:\n",
    "    print(lang_code)"
   ]
  },
  {
   "cell_type": "code",
   "execution_count": null,
   "metadata": {},
   "outputs": [],
   "source": []
  }
 ]
}