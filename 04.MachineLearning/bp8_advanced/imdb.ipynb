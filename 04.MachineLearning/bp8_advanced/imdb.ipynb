{
 "metadata": {
  "language_info": {
   "codemirror_mode": {
    "name": "ipython",
    "version": 3
   },
   "file_extension": ".py",
   "mimetype": "text/x-python",
   "name": "python",
   "nbconvert_exporter": "python",
   "pygments_lexer": "ipython3",
   "version": "3.8.5-final"
  },
  "orig_nbformat": 2,
  "kernelspec": {
   "name": "python3",
   "display_name": "Python 3",
   "language": "python"
  }
 },
 "nbformat": 4,
 "nbformat_minor": 2,
 "cells": [
  {
   "cell_type": "code",
   "execution_count": 2,
   "metadata": {},
   "outputs": [],
   "source": [
    "import pandas as pd\n",
    "import numpy as np\n",
    "import re\n",
    "from sklearn.model_selection import train_test_split\n",
    "from sklearn.feature_extraction.text import CountVectorizer,TfidfVectorizer\n",
    "from sklearn.linear_model import LogisticRegression\n",
    "from sklearn.metrics import accuracy_score\n",
    "import joblib\n",
    "from sklearn.pipeline import Pipeline\n",
    "from sklearn.model_selection import GridSearchCV\n",
    "from sklearn.svm import SVC\n"
   ]
  },
  {
   "cell_type": "code",
   "execution_count": 3,
   "metadata": {},
   "outputs": [],
   "source": [
    "df = pd.read_csv('../static/data/labeledTrainData.tsv', delimiter=\"\\t\")"
   ]
  },
  {
   "cell_type": "code",
   "execution_count": 4,
   "metadata": {},
   "outputs": [],
   "source": [
    "df['review'] = df['review'].str.replace('<br />',' ')\n",
    "df['review'] = df.review.apply(lambda x: re.sub('[^a-zA-Z]',' ',x))"
   ]
  },
  {
   "cell_type": "code",
   "execution_count": 18,
   "metadata": {},
   "outputs": [],
   "source": [
    "tfidf_vect = TfidfVectorizer()\n",
    "tfidf_vect.fit(X_train)\n",
    "X_train_tfidf = tfidf_vect.transform(X_train)\n",
    "X_test_tfidf = tfidf_vect.transform(X_test)"
   ]
  },
  {
   "cell_type": "code",
   "execution_count": 19,
   "metadata": {},
   "outputs": [],
   "source": [
    "count_vect = CountVectorizer()\n",
    "count_vect.fit(X_train)\n",
    "X_train_count = count_vect.transform(X_train)\n",
    "X_test_count = count_vect.transform(X_test)"
   ]
  },
  {
   "cell_type": "code",
   "execution_count": 20,
   "metadata": {},
   "outputs": [
    {
     "output_type": "execute_result",
     "data": {
      "text/plain": [
       "0.6736590546999469"
      ]
     },
     "metadata": {},
     "execution_count": 20
    }
   ],
   "source": [
    "news_tfidf_lr = LogisticRegression()\n",
    "news_tfidf_lr.fit(X_train_tfidf,y_train)\n",
    "pred = news_tfidf_lr.predict(X_test_tfidf)\n",
    "accuracy_score(y_test,pred)"
   ]
  },
  {
   "cell_type": "code",
   "execution_count": 21,
   "metadata": {},
   "outputs": [
    {
     "output_type": "execute_result",
     "data": {
      "text/plain": [
       "['../static/model/news_tfidf_lr.pkl']"
      ]
     },
     "metadata": {},
     "execution_count": 21
    }
   ],
   "source": [
    "joblib.dump(news_tfidf_lr,'../static/model/news_tfidf_lr.pkl')"
   ]
  },
  {
   "cell_type": "code",
   "execution_count": 22,
   "metadata": {},
   "outputs": [
    {
     "output_type": "execute_result",
     "data": {
      "text/plain": [
       "0.6075411577270313"
      ]
     },
     "metadata": {},
     "execution_count": 22
    }
   ],
   "source": [
    "news_count_lr = LogisticRegression()\n",
    "news_count_lr.fit(X_train_count,y_train)\n",
    "pred = news_count_lr.predict(X_test_count)\n",
    "accuracy_score(y_test,pred)"
   ]
  },
  {
   "cell_type": "code",
   "execution_count": 23,
   "metadata": {},
   "outputs": [
    {
     "output_type": "execute_result",
     "data": {
      "text/plain": [
       "['../static/model/news_count_lr.pkl']"
      ]
     },
     "metadata": {},
     "execution_count": 23
    }
   ],
   "source": [
    "joblib.dump(news_count_lr,'../static/model/news_count_lr.pkl')"
   ]
  },
  {
   "cell_type": "code",
   "execution_count": 24,
   "metadata": {},
   "outputs": [
    {
     "output_type": "execute_result",
     "data": {
      "text/plain": [
       "0.097052575677111"
      ]
     },
     "metadata": {},
     "execution_count": 24
    }
   ],
   "source": [
    "news_tfidf_sv = SVC()\n",
    "news_tfidf_sv.fit(X_train_count,y_train)\n",
    "pred = news_tfidf_sv.predict(X_test_count)\n",
    "accuracy_score(y_test,pred)"
   ]
  },
  {
   "cell_type": "code",
   "execution_count": 25,
   "metadata": {},
   "outputs": [
    {
     "output_type": "execute_result",
     "data": {
      "text/plain": [
       "['../static/model/news_tfidf_sv.pkl']"
      ]
     },
     "metadata": {},
     "execution_count": 25
    }
   ],
   "source": [
    "joblib.dump(news_tfidf_sv,'../static/model/news_tfidf_sv.pkl')"
   ]
  }
 ]
}